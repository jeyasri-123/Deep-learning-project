{
  "nbformat": 4,
  "nbformat_minor": 0,
  "metadata": {
    "colab": {
      "provenance": []
    },
    "kernelspec": {
      "name": "python3",
      "display_name": "Python 3"
    },
    "language_info": {
      "name": "python"
    }
  },
  "cells": [
    {
      "cell_type": "markdown",
      "source": [
        "## **1.Implement AlexNet and ResNet-18 Architecture  in PyTorch**"
      ],
      "metadata": {
        "id": "mMoN0C0mY6nd"
      }
    },
    {
      "cell_type": "markdown",
      "source": [
        "**Implementing AlexNet**"
      ],
      "metadata": {
        "id": "2fGzwFfSZPZT"
      }
    },
    {
      "cell_type": "code",
      "source": [
        "import torch\n",
        "import torch.nn as nn\n",
        "import torch.nn.functional as F\n",
        "\n",
        "class AlexNet(nn.Module):\n",
        "    def __init__(self, num_classes=1000):\n",
        "        super(AlexNet, self).__init__()\n",
        "        self.conv1 = nn.Conv2d(3, 64, kernel_size=11, stride=4, padding=2)\n",
        "        self.conv2 = nn.Conv2d(64, 192, kernel_size=5, padding=2)\n",
        "        self.conv3 = nn.Conv2d(192, 384, kernel_size=3, padding=1)\n",
        "        self.conv4 = nn.Conv2d(384, 256, kernel_size=3, padding=1)\n",
        "        self.conv5 = nn.Conv2d(256, 256, kernel_size=3, padding=1)\n",
        "\n",
        "        self.fc1 = nn.Linear(256 * 6 * 6, 4096)\n",
        "        self.fc2 = nn.Linear(4096, 4096)\n",
        "        self.fc3 = nn.Linear(4096, num_classes)\n",
        "\n",
        "        self.pool = nn.MaxPool2d(kernel_size=3, stride=2)\n",
        "        self.dropout = nn.Dropout(p=0.5)\n",
        "\n",
        "    def forward(self, x):\n",
        "        x = self.pool(F.relu(self.conv1(x)))\n",
        "        x = self.pool(F.relu(self.conv2(x)))\n",
        "        x = F.relu(self.conv3(x)) # Removed pooling here\n",
        "        x = F.relu(self.conv4(x)) # Removed pooling here\n",
        "        x = self.pool(F.relu(self.conv5(x)))\n",
        "        x = x.view(x.size(0), -1)\n",
        "        x = self.dropout(F.relu(self.fc1(x)))\n",
        "        x = self.dropout(F.relu(self.fc2(x)))\n",
        "        x = self.fc3(x)\n",
        "        return x\n",
        "\n",
        "# Create a random input tensor with shape (batch_size, channels, height, width)\n",
        "input_tensor = torch.randn(4, 3, 224, 224)  # Use 224x224 as the input size\n",
        "\n",
        "# Instantiate the model\n",
        "alexnet_model = AlexNet(num_classes=10)\n",
        "\n",
        "# Get the model output\n",
        "output = alexnet_model(input_tensor)\n",
        "\n",
        "# Output shape\n",
        "print(output.shape)  # Should print: torch.Size([4, 10])\n",
        "print(output)  # Prints the raw scores for each class"
      ],
      "metadata": {
        "colab": {
          "base_uri": "https://localhost:8080/"
        },
        "id": "YhFtuTsKY0Ua",
        "outputId": "3c2c7495-14b2-422a-ccb0-df95107a8686"
      },
      "execution_count": 1,
      "outputs": [
        {
          "output_type": "stream",
          "name": "stdout",
          "text": [
            "torch.Size([4, 10])\n",
            "tensor([[-1.7156e-02,  1.1554e-02, -2.7084e-02,  3.2982e-05,  4.8485e-03,\n",
            "         -9.7351e-03, -3.7149e-04, -9.2787e-03, -9.4921e-03,  1.2892e-02],\n",
            "        [-1.6288e-02, -2.8804e-03, -3.0234e-03,  1.6097e-04,  3.7497e-03,\n",
            "         -8.2696e-03,  8.6850e-03, -2.0397e-02,  9.3941e-03,  2.7659e-03],\n",
            "        [-2.4368e-02,  9.8528e-03, -1.4246e-02, -1.2146e-02, -7.7797e-03,\n",
            "         -2.7456e-02, -4.0640e-03, -1.5262e-02, -4.6975e-03,  6.2381e-03],\n",
            "        [-1.6860e-02,  6.6081e-03, -1.6314e-02, -1.8434e-02,  6.3818e-03,\n",
            "         -5.5130e-03, -8.9831e-03, -2.0591e-02, -1.4087e-03,  1.1883e-02]],\n",
            "       grad_fn=<AddmmBackward0>)\n"
          ]
        }
      ]
    },
    {
      "cell_type": "markdown",
      "source": [
        "**Implementing ResNet-18**"
      ],
      "metadata": {
        "id": "UHy1jz_3Zov7"
      }
    },
    {
      "cell_type": "code",
      "source": [
        "import torch\n",
        "import torch.nn as nn\n",
        "\n",
        "class BasicBlock(nn.Module):\n",
        "    expansion = 1\n",
        "\n",
        "    def __init__(self, in_channels, out_channels, stride=1, downsample=None):\n",
        "        super(BasicBlock, self).__init__()\n",
        "        self.conv1 = nn.Conv2d(in_channels, out_channels, kernel_size=3, stride=stride, padding=1, bias=False)\n",
        "        self.bn1 = nn.BatchNorm2d(out_channels)\n",
        "        self.relu = nn.ReLU(inplace=True)\n",
        "        self.conv2 = nn.Conv2d(out_channels, out_channels, kernel_size=3, padding=1, bias=False)\n",
        "        self.bn2 = nn.BatchNorm2d(out_channels)\n",
        "        self.downsample = downsample\n",
        "\n",
        "    def forward(self, x):\n",
        "        identity = x\n",
        "\n",
        "        out = self.conv1(x)\n",
        "        out = self.bn1(out)\n",
        "        out = self.relu(out)\n",
        "\n",
        "        out = self.conv2(out)\n",
        "        out = self.bn2(out)\n",
        "\n",
        "        if self.downsample is not None:\n",
        "            identity = self.downsample(x)\n",
        "\n",
        "        out += identity\n",
        "        out = self.relu(out)\n",
        "\n",
        "        return out\n",
        "\n",
        "class ResNet(nn.Module):\n",
        "    def __init__(self, block, layers, num_classes=1000):\n",
        "        super(ResNet, self).__init__()\n",
        "        self.in_channels = 64\n",
        "        self.conv1 = nn.Conv2d(3, 64, kernel_size=7, stride=2, padding=3, bias=False)\n",
        "        self.bn1 = nn.BatchNorm2d(64)\n",
        "        self.relu = nn.ReLU(inplace=True)\n",
        "        self.maxpool = nn.MaxPool2d(kernel_size=3, stride=2, padding=1)\n",
        "        self.layer1 = self._make_layer(block, 64, layers[0])\n",
        "        self.layer2 = self._make_layer(block, 128, layers[1], stride=2)\n",
        "        self.layer3 = self._make_layer(block, 256, layers[2], stride=2)\n",
        "        self.layer4 = self._make_layer(block, 512, layers[3], stride=2)\n",
        "        self.avgpool = nn.AdaptiveAvgPool2d((1, 1))\n",
        "        self.fc = nn.Linear(512 * block.expansion, num_classes)\n",
        "\n",
        "    def _make_layer(self, block, out_channels, blocks, stride=1):\n",
        "        downsample = None\n",
        "        if stride != 1 or self.in_channels != out_channels * block.expansion:\n",
        "            downsample = nn.Sequential(\n",
        "                nn.Conv2d(self.in_channels, out_channels * block.expansion, kernel_size=1, stride=stride, bias=False),\n",
        "                nn.BatchNorm2d(out_channels * block.expansion),\n",
        "            )\n",
        "\n",
        "        layers = []\n",
        "        layers.append(block(self.in_channels, out_channels, stride, downsample))\n",
        "        self.in_channels = out_channels * block.expansion\n",
        "        for _ in range(1, blocks):\n",
        "            layers.append(block(self.in_channels, out_channels))\n",
        "\n",
        "        return nn.Sequential(*layers)\n",
        "\n",
        "    def forward(self, x):\n",
        "        x = self.conv1(x)\n",
        "        x = self.bn1(x)\n",
        "        x = self.relu(x)\n",
        "        x = self.maxpool(x)\n",
        "\n",
        "        x = self.layer1(x)\n",
        "        x = self.layer2(x)\n",
        "        x = self.layer3(x)\n",
        "        x = self.layer4(x)\n",
        "\n",
        "        x = self.avgpool(x)\n",
        "        x = torch.flatten(x, 1)\n",
        "        x = self.fc(x)\n",
        "\n",
        "        return x\n",
        "\n",
        "def resnet18(num_classes=1000):\n",
        "    return ResNet(BasicBlock, [2, 2, 2, 2], num_classes)\n",
        "# Create a random input tensor with shape (batch_size, channels, height, width)\n",
        "input_tensor = torch.randn(4, 3, 224, 224)\n",
        "\n",
        "# Instantiate the model\n",
        "resnet_model = resnet18(num_classes=10)\n",
        "\n",
        "# Get the model output\n",
        "output = resnet_model(input_tensor)\n",
        "\n",
        "# Output shape\n",
        "print(output.shape)  # Should print: torch.Size([4, 10])\n",
        "print(output)  # Prints the raw scores for each class\n"
      ],
      "metadata": {
        "colab": {
          "base_uri": "https://localhost:8080/"
        },
        "id": "wQugxKYaZvRb",
        "outputId": "45c255ed-b47e-44b0-809a-d9ffc0bd92ff"
      },
      "execution_count": 2,
      "outputs": [
        {
          "output_type": "stream",
          "name": "stdout",
          "text": [
            "torch.Size([4, 10])\n",
            "tensor([[ 0.0122,  0.1111,  0.1089, -0.6872, -0.1790,  0.2567, -0.0155, -0.0827,\n",
            "          0.0224, -0.3780],\n",
            "        [-0.2221,  0.1824,  0.1312, -0.7522, -0.3306,  0.0140, -0.0682, -0.1199,\n",
            "         -0.2306, -0.4595],\n",
            "        [-0.2074,  0.1492,  0.1488, -0.6946, -0.2300, -0.0601, -0.0122, -0.1334,\n",
            "         -0.0079, -0.5165],\n",
            "        [-0.2225,  0.1993,  0.0904, -0.7805, -0.2719, -0.0259, -0.0998, -0.0211,\n",
            "          0.0227, -0.3670]], grad_fn=<AddmmBackward0>)\n"
          ]
        }
      ]
    }
  ]
}